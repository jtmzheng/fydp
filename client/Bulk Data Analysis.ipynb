{
 "cells": [
  {
   "cell_type": "code",
   "execution_count": 1,
   "metadata": {
    "collapsed": false
   },
   "outputs": [],
   "source": [
    "%load_ext sql"
   ]
  },
  {
   "cell_type": "code",
   "execution_count": 2,
   "metadata": {
    "collapsed": false
   },
   "outputs": [
    {
     "name": "stderr",
     "output_type": "stream",
     "text": [
      "/home/jtmzheng/anaconda2/lib/python2.7/site-packages/matplotlib/font_manager.py:273: UserWarning: Matplotlib is building the font cache using fc-list. This may take a moment.\n",
      "  warnings.warn('Matplotlib is building the font cache using fc-list. This may take a moment.')\n"
     ]
    }
   ],
   "source": [
    "import numpy as np\n",
    "import scipy as sp\n",
    "import matplotlib.pyplot as plt\n",
    "import peakutils\n",
    "import locate\n",
    "import farwave\n",
    "import time\n",
    "\n",
    "from scipy import signal\n",
    "\n",
    "MIC_IND_LR = {\n",
    "    0: (1, 2),\n",
    "    1: (2, 0),\n",
    "    2: (0, 1)\n",
    "}\n",
    "\n",
    "ANGLE_OFFSET = {\n",
    "    0: 0,\n",
    "    1: 2.0944, # 120 deg in rad\n",
    "    2: 4.18879, # 240 deg in rad\n",
    "}\n"
   ]
  },
  {
   "cell_type": "code",
   "execution_count": 3,
   "metadata": {
    "collapsed": true
   },
   "outputs": [],
   "source": [
    "%matplotlib notebook"
   ]
  },
  {
   "cell_type": "code",
   "execution_count": 4,
   "metadata": {
    "collapsed": false
   },
   "outputs": [
    {
     "data": {
      "text/plain": [
       "u'Connected: None@schema/test_low.db'"
      ]
     },
     "execution_count": 4,
     "metadata": {},
     "output_type": "execute_result"
    }
   ],
   "source": [
    "%sql sqlite:///schema/test_low.db"
   ]
  },
  {
   "cell_type": "code",
   "execution_count": 5,
   "metadata": {
    "collapsed": true
   },
   "outputs": [],
   "source": [
    "l = 0.3 # Length from mic to centre of array\n",
    "\n",
    "def calc_delays(sigs, offsets):\n",
    "    \"\"\" Calculate matrix of delays given N sigs\n",
    "    \"\"\"\n",
    "    results = []\n",
    "    for j in range(len(sigs)):\n",
    "        for k in range(len(sigs)):\n",
    "            if j != k:\n",
    "                results.append((\n",
    "                        (j, k), locate.xcorr_peaks(sigs[j], sigs[k], offsets[j], offsets[k], l)\n",
    "                    ))\n",
    "            \n",
    "\n",
    "    # 3x3 array delays[i][j] is the delay of signal j relative to signal i\n",
    "    delays = np.zeros((len(sigs), len(sigs)), dtype=np.float)\n",
    "    for res in results:\n",
    "        key, val = res[0], res[1]\n",
    "        delays[key[0]][key[1]] = val[1] # xcorr (val, delay) tuple\n",
    "        delays[key[1]][key[0]] = -delays[key[0]][key[1]]\n",
    "        \n",
    "    return delays\n",
    "\n",
    "def calc_angles(sigs, delays, l):\n",
    "    \"\"\" Given delays matrix, calculate angle using both farwave and solver\n",
    "    \"\"\"\n",
    "    # Estimate \"location\" of sound source, create array record\n",
    "    f_theta = np.deg2rad(farwave.calc_angle(delays, l))\n",
    "    for j in range(len(sigs)):\n",
    "        theta = 0\n",
    "        if delays[j][(j+1)%3] >= 0 and delays[j][(j+2)%3] >= 0:\n",
    "            lr = MIC_IND_LR[j]\n",
    "            print 'Using microphone %d as closest mic - (%d left, %d right)' % (j, lr[0], lr[1])\n",
    "            r, theta = locate.locate(delays[j][lr[0]], delays[j][lr[1]], l, r0=5., theta0=f_theta-ANGLE_OFFSET[j])\n",
    "            theta += ANGLE_OFFSET[j]\n",
    "            print 'Solver: r = %f, theta = %f' % (r, np.rad2deg(theta))\n",
    "            break\n",
    "    \n",
    "    return np.rad2deg(theta), np.rad2deg(f_theta)\n"
   ]
  },
  {
   "cell_type": "code",
   "execution_count": 6,
   "metadata": {
    "collapsed": false
   },
   "outputs": [
    {
     "name": "stdout",
     "output_type": "stream",
     "text": [
      "Done.\n"
     ]
    }
   ],
   "source": [
    "experiments = %sql select id, comment from experiment"
   ]
  },
  {
   "cell_type": "code",
   "execution_count": 7,
   "metadata": {
    "collapsed": false
   },
   "outputs": [
    {
     "name": "stdout",
     "output_type": "stream",
     "text": [
      "Done.\n",
      "Angles: [-59.78294999992787, -75.26306394167504, -44.498538625719476]\n",
      "Errors: [1.00000717541323, 1.4077649071675558, 1.4019969250163515]\n",
      "\n",
      "Angle (CW): -59.815465\n",
      "Using microphone 0 as closest mic - (1 left, 2 right)\n",
      "Solver: r = 0.001314, theta = 59.999995\n"
     ]
    },
    {
     "name": "stderr",
     "output_type": "stream",
     "text": [
      "/home/jtmzheng/anaconda2/lib/python2.7/site-packages/pandas/core/window.py:164: ComplexWarning: Casting complex values to real discards the imaginary part\n",
      "  values = com._ensure_float64(values)\n"
     ]
    },
    {
     "name": "stdout",
     "output_type": "stream",
     "text": [
      "Angles: [-60.93138060937617, -82.26784206403407, -38.92950393280467]\n",
      "Errors: [1.0001321377608117, 1.2644140330241627, 1.2854797528328477]\n",
      "\n",
      "Angle (CW): -60.871443\n",
      "Using microphone 1 as closest mic - (2 left, 0 right)\n",
      "Solver: r = -0.361549, theta = 0.000277\n",
      "59.815465,60.871443,59.999995,0.000277\n",
      "Done.\n",
      "Angles: [-59.072566264078155, -78.03652765263584, -40.98902657629512]\n",
      "Errors: [1.0001310201021414, 1.344861008880262, 1.3247924557870216]\n",
      "\n",
      "Angle (CW): -59.224983\n",
      "Using microphone 0 as closest mic - (1 left, 2 right)\n",
      "Solver: r = 0.005634, theta = 59.999995\n",
      "Angles: [-59.12387522528797, -86.20791888447866, -32.74425192599108]\n",
      "Errors: [1.0001169227377271, 1.2032806040833948, 1.1889287702205729]\n",
      "\n",
      "Angle (CW): -59.213351\n",
      "Using microphone 0 as closest mic - (1 left, 2 right)\n",
      "Solver: r = 0.005321, theta = 59.999995\n",
      "59.224983,59.213351,59.999995,59.999995\n",
      "Done.\n",
      "Angles: [118.40941496302594, 149.453190305103, 90.546809694897]\n",
      "Errors: [1.000385458834128, 104.78352855705414, 104.78352855705414]\n",
      "\n",
      "Angle (CW): 119.149797\n",
      "Using microphone 2 as closest mic - (0 left, 1 right)\n",
      "Solver: r = 64029.930484, theta = 297.131310\n"
     ]
    },
    {
     "name": "stderr",
     "output_type": "stream",
     "text": [
      "/home/jtmzheng/anaconda2/lib/python2.7/site-packages/scipy/optimize/minpack.py:161: RuntimeWarning: The iteration is not making good progress, as measured by the \n",
      "  improvement from the last ten iterations.\n",
      "  warnings.warn(msg, RuntimeWarning)\n"
     ]
    },
    {
     "name": "stdout",
     "output_type": "stream",
     "text": [
      "Angles: [-58.7133804019804, -89.98783513631152, -28.541741580197748]\n",
      "Errors: [1.00025218329936, 1.1548421263797612, 1.138343764705342]\n",
      "\n",
      "Angle (CW): -58.877899\n",
      "Using microphone 0 as closest mic - (1 left, 2 right)\n",
      "Solver: r = 0.007830, theta = 59.999995\n",
      "240.850203,58.877899,297.131310,59.999995\n",
      "Done.\n",
      "Angles: [-36.12638577035296, -65.21266284940499, -24.171734867961984]\n",
      "Errors: [1.0935649424065328, 1.7342657500159666, 1.0961039521294629]\n",
      "\n",
      "Angle (CW): -37.746882\n",
      "Using microphone 0 as closest mic - (1 left, 2 right)\n",
      "Solver: r = 0.170950, theta = 59.999996\n",
      "Angles: [-39.73803788157662, 17.807903057824433, -18.9966037495162]\n",
      "Errors: [1.0659627858820762, 1.3497148356062212, 1.0575990971524474]\n",
      "\n",
      "Angle (CW): -16.637460\n",
      "Using microphone 0 as closest mic - (1 left, 2 right)\n",
      "Solver: r = 10.535567, theta = 75.058909\n",
      "37.746882,16.637460,59.999996,75.058909\n",
      "Done.\n"
     ]
    },
    {
     "name": "stderr",
     "output_type": "stream",
     "text": [
      "/home/jtmzheng/anaconda2/lib/python2.7/site-packages/scipy/optimize/minpack.py:161: RuntimeWarning: The iteration is not making good progress, as measured by the \n",
      "  improvement from the last five Jacobian evaluations.\n",
      "  warnings.warn(msg, RuntimeWarning)\n"
     ]
    },
    {
     "name": "stdout",
     "output_type": "stream",
     "text": [
      "Angles: [-36.50990845021982, 17.972808202909373, -15.737896595984665]\n",
      "Errors: [1.0903591315571095, 1.3462081421848648, 1.038947486537853]\n",
      "\n",
      "Angle (CW): -13.977221\n",
      "Using microphone 0 as closest mic - (1 left, 2 right)\n",
      "Solver: r = 58.670154, theta = 73.356281\n",
      "Angles: [-36.6174382435634, 13.54277861636309, -19.14274619380682]\n",
      "Errors: [1.0894724249813474, 1.4515979856112147, 1.058532032139928]\n",
      "\n",
      "Angle (CW): -17.235555\n",
      "Using microphone 0 as closest mic - (1 left, 2 right)\n",
      "Solver: r = 0.166553, theta = 59.999996\n",
      "13.977221,17.235555,73.356281,59.999996\n",
      "Done.\n",
      "Angles: [-38.30946233190011, -68.41384672092626, -24.431536992384128]\n",
      "Errors: [1.076201962864659, 1.6094321530525713, 1.0983505475202258]\n",
      "\n",
      "Angle (CW): -40.042868\n",
      "Using microphone 0 as closest mic - (1 left, 2 right)\n",
      "Solver: r = 0.151861, theta = 59.999996\n",
      "Angles: [-33.54053907470468, 0.11447839988077407, -24.383866712506364]\n",
      "Errors: [1.1170066217765755, 1.993106477582047, 1.097935945364129]\n",
      "\n",
      "Angle (CW): -23.502650\n",
      "Using microphone 0 as closest mic - (1 left, 2 right)\n",
      "Solver: r = 0.195239, theta = 59.999996\n",
      "40.042868,23.502650,59.999996,59.999996\n",
      "Done.\n",
      "Angles: [-20.120521090467054, 27.886936175288554, 6.2873138244481455]\n",
      "Errors: [1.3031101356160995, 1.1806365171086655, 1.0060511684270368]\n",
      "\n",
      "Angle (CW): 5.753107\n",
      "Using microphone 0 as closest mic - (1 left, 2 right)\n",
      "Solver: r = 0.380449, theta = 419.999996\n",
      "Angles: [-22.646105387617006, 25.91776309446008, 2.6568484200280125]\n",
      "Errors: [1.258014949991535, 1.2073880947222695, 1.0010760874358131]\n",
      "\n",
      "Angle (CW): 2.427182\n",
      "Using microphone 0 as closest mic - (1 left, 2 right)\n",
      "Solver: r = 0.333135, theta = 419.999997\n",
      "354.246893,357.572818,419.999996,419.999997\n",
      "Done.\n",
      "Angles: [-19.79060345736494, 23.081727957656668, 2.5738885608125233]\n",
      "Errors: [1.3094315581970772, 1.2507924717271983, 1.0010098794747673]\n",
      "\n",
      "Angle (CW): 2.400438\n",
      "Using microphone 0 as closest mic - (1 left, 2 right)\n",
      "Solver: r = 21.122561, theta = 425.935089\n",
      "Angles: [-21.116138013545225, 23.333054199737422, 1.7524544911471334]\n",
      "Errors: [1.2846535443705067, 1.2466958142816742, 1.000467937181139]\n",
      "\n",
      "Angle (CW): 1.625139\n",
      "Using microphone 0 as closest mic - (1 left, 2 right)\n",
      "Solver: r = 0.360677, theta = 419.999997\n",
      "357.599562,358.374861,425.935089,419.999997\n",
      "Done.\n",
      "Angles: [-21.742036116660156, 24.688969980742442, 2.360587581002851]\n",
      "Errors: [1.2735108055646356, 1.2254506520199009, 1.0008493217409973]\n",
      "\n",
      "Angle (CW): 2.173290\n",
      "Using microphone 0 as closest mic - (1 left, 2 right)\n",
      "Solver: r = 0.349026, theta = 419.999996\n",
      "Angles: [-21.586071064830026, 23.79903942188993, 1.7642991312240057]\n",
      "Errors: [1.276255072198176, 1.2392335230751226, 1.0004742865342684]\n",
      "\n",
      "Angle (CW): 1.628498\n",
      "Using microphone 0 as closest mic - (1 left, 2 right)\n",
      "Solver: r = 0.351877, theta = 419.999996\n",
      "357.826710,358.371502,419.999996,419.999996\n",
      "Done.\n",
      "Angles: [-2.433208826945784, 32.526565028403084, 22.504053313681716]\n",
      "Errors: [1.8645720999344195, 1.1271100293531762, 1.0824239212553728]\n",
      "\n",
      "Angle (CW): 21.408515\n",
      "Using microphone 0 as closest mic - (1 left, 2 right)\n",
      "Solver: r = 3.095537, theta = 419.999995\n",
      "Angles: [-9.833576824973767, 35.07770594935742, 20.270375679928872]\n",
      "Errors: [1.5611344372212879, 1.1026815776623382, 1.0660205848311193]\n",
      "\n",
      "Angle (CW): 18.600407\n",
      "Using microphone 0 as closest mic - (1 left, 2 right)\n",
      "Solver: r = 0.786491, theta = 419.999996\n",
      "338.591485,341.399593,419.999995,419.999996\n",
      "Done.\n",
      "Angles: [-9.981207925654237, 34.85121560404129, 19.950978807020643]\n",
      "Errors: [1.556332242856374, 1.1047193438008935, 1.0638468734914384]\n",
      "\n",
      "Angle (CW): 18.318261\n",
      "Using microphone 0 as closest mic - (1 left, 2 right)\n",
      "Solver: r = 0.775094, theta = 419.999996\n",
      "Angles: [-5.803783096929177, 33.18734674126533, 21.09715883478784]\n",
      "Errors: [1.7093689063896673, 1.1204654734482766, 1.0718442344359984]\n",
      "\n",
      "Angle (CW): 19.789356\n",
      "Using microphone 0 as closest mic - (1 left, 2 right)\n",
      "Solver: r = 1.316649, theta = 419.999996\n",
      "341.681739,340.210644,419.999996,419.999996\n",
      "Done.\n",
      "Angles: [-14.389771731366213, 35.789328661172796, 17.72836561136448]\n",
      "Errors: [1.4295194371123272, 1.0964386276435176, 1.0498568119711515]\n",
      "\n",
      "Angle (CW): 15.980286\n",
      "Using microphone 0 as closest mic - (1 left, 2 right)\n",
      "Solver: r = 0.539588, theta = 419.999996\n",
      "Angles: [-11.843282679376074, 34.405717398492136, 18.238701074620508]\n",
      "Errors: [1.4990358993730846, 1.1088003236312785, 1.052896615504334]\n",
      "\n",
      "Angle (CW): 16.678676\n",
      "Using microphone 0 as closest mic - (1 left, 2 right)\n",
      "Solver: r = 17.429792, theta = 422.754278\n",
      "344.019714,343.321324,419.999996,422.754278\n",
      "Done.\n",
      "Angles: [84.80978140942007, 63.23378067652818, 39.244729375764955]\n",
      "Errors: [1.2236258256613428, 1.001594860346917, 1.2912375378883685]\n",
      "\n",
      "Angle (CW): 62.984173\n",
      "Using microphone 2 as closest mic - (0 left, 1 right)\n",
      "Solver: r = 0.019881, theta = 299.999983\n",
      "Angles: [80.21815977644695, 60.185478971300945, 40.02362150983263]\n",
      "Errors: [1.3012592593658021, 1.0000052398154728, 1.3058591468909846]\n",
      "\n",
      "Angle (CW): 60.174692\n",
      "Using microphone 2 as closest mic - (0 left, 1 right)\n",
      "Solver: r = 0.001122, theta = 299.999983\n",
      "297.015827,299.825308,299.999983,299.999983\n",
      "Done.\n",
      "Angles: [91.67815253146226, 68.00156576997585, 37.87200525372549]\n",
      "Errors: [1.1359808691510251, 1.0098314513327715, 1.2668103666207304]\n",
      "\n",
      "Angle (CW): 67.171906\n",
      "Using microphone 2 as closest mic - (0 left, 1 right)\n",
      "Solver: r = 0.050529, theta = 299.999984\n",
      "Angles: [87.59760544314126, 64.35306895902491, 37.717189971750955]\n",
      "Errors: [1.1844053642592847, 1.0028930874174609, 1.264158534444168]\n",
      "\n",
      "Angle (CW): 63.956874\n",
      "Using microphone 2 as closest mic - (0 left, 1 right)\n",
      "Solver: r = 0.026925, theta = 299.999983\n",
      "292.828094,296.043126,299.999984,299.999983\n",
      "Done.\n",
      "Angles: [89.0628844313819, 65.87060251195273, 38.047188688358546]\n",
      "Errors: [1.1658652478233986, 1.0052722232744236, 1.2698357408451284]\n",
      "\n",
      "Angle (CW): 65.310586\n",
      "Using microphone 2 as closest mic - (0 left, 1 right)\n",
      "Solver: r = 0.036618, theta = 299.999983\n",
      "Angles: [82.70069584397751, 60.93138060937615, 38.47943385221209]\n",
      "Errors: [1.2571013017936956, 1.0001321377608117, 1.277414013392002]\n",
      "\n",
      "Angle (CW): 60.864471\n",
      "Using microphone 2 as closest mic - (0 left, 1 right)\n",
      "Solver: r = 0.005658, theta = 299.999983\n",
      "294.689414,299.135529,299.999983,299.999983\n"
     ]
    }
   ],
   "source": [
    "ang_solver_raw = []\n",
    "ang_solver_butter = []\n",
    "ang_far_raw = []\n",
    "ang_far_butter = []\n",
    "\n",
    "for i in range(len(experiments)):\n",
    "    cur_experiment_id = int(experiments[i][0])\n",
    "    result = %sql select data from mic where experiment_id = :cur_experiment_id\n",
    "        \n",
    "    mic_0 = np.array(result[0][0])\n",
    "    mic_1 = np.array(result[1][0])\n",
    "    mic_2 = np.array(result[2][0])\n",
    "    \n",
    "    sigs = [mic_0, mic_1, mic_2]\n",
    "    #try:\n",
    "    sigs_cropped, sigs_butter_cropped, offsets, _, _ = locate.crop_sigs_npeaks(sigs)\n",
    "    \n",
    "    # Calculate delays, angle using raw signal (cropped)\n",
    "    delays_raw = calc_delays(sigs_cropped, offsets)\n",
    "    solver_raw, far_raw = calc_angles(sigs_cropped, delays_raw, l)\n",
    "\n",
    "    delays_butter = calc_delays(sigs_butter_cropped, offsets)\n",
    "    solver_butter, far_butter = calc_angles(sigs_butter_cropped, delays_butter, l)\n",
    "    #except:\n",
    "    #    print 'Failure to find peaks: Setting to 0'\n",
    "    #    solver_raw = far_raw = solver_butter = far_butter = 0\n",
    "        \n",
    "    print '%f,%f,%f,%f' % (far_raw, far_butter, solver_raw, solver_butter)\n",
    "    \n",
    "    ang_solver_raw.append(solver_raw)\n",
    "    ang_solver_butter.append(solver_butter)\n",
    "    ang_far_raw.append(far_raw)\n",
    "    ang_far_butter.append(far_butter)\n"
   ]
  },
  {
   "cell_type": "code",
   "execution_count": 8,
   "metadata": {
    "collapsed": false
   },
   "outputs": [
    {
     "name": "stdout",
     "output_type": "stream",
     "text": [
      "59.815465,60.871443,59.999995,0.000277,-55\n",
      "59.224983,59.213351,59.999995,59.999995,-55\n",
      "240.850203,58.877899,297.131310,59.999995,-55\n",
      "37.746882,16.637460,59.999996,75.058909,-25\n",
      "13.977221,17.235555,73.356281,59.999996,-25\n",
      "40.042868,23.502650,59.999996,59.999996,-25\n",
      "354.246893,357.572818,419.999996,419.999997,5\n",
      "357.599562,358.374861,425.935089,419.999997,5\n",
      "357.826710,358.371502,419.999996,419.999996,5\n",
      "338.591485,341.399593,419.999995,419.999996,40\n",
      "341.681739,340.210644,419.999996,419.999996,40\n",
      "344.019714,343.321324,419.999996,422.754278,40\n",
      "297.015827,299.825308,299.999983,299.999983,70\n",
      "292.828094,296.043126,299.999984,299.999983,70\n",
      "294.689414,299.135529,299.999983,299.999983,70\n"
     ]
    }
   ],
   "source": [
    "# Assuming comment is the _actual_ angle\n",
    "for i in range(len(ang_solver_raw)):\n",
    "    print '%f,%f,%f,%f,%s' % (ang_far_raw[i], ang_far_butter[i], ang_solver_raw[i], ang_solver_butter[i], experiments[i][1])"
   ]
  }
 ],
 "metadata": {
  "anaconda-cloud": {},
  "kernelspec": {
   "display_name": "Python [default]",
   "language": "python",
   "name": "python2"
  },
  "language_info": {
   "codemirror_mode": {
    "name": "ipython",
    "version": 2
   },
   "file_extension": ".py",
   "mimetype": "text/x-python",
   "name": "python",
   "nbconvert_exporter": "python",
   "pygments_lexer": "ipython2",
   "version": "2.7.12"
  }
 },
 "nbformat": 4,
 "nbformat_minor": 1
}
