{
 "cells": [
  {
   "cell_type": "code",
   "execution_count": null,
   "metadata": {
    "collapsed": false
   },
   "outputs": [],
   "source": [
    "%load_ext sql"
   ]
  },
  {
   "cell_type": "code",
   "execution_count": null,
   "metadata": {
    "collapsed": false
   },
   "outputs": [],
   "source": [
    "import numpy as np\n",
    "import scipy as sp\n",
    "import matplotlib.pyplot as plt\n",
    "import peakutils\n",
    "\n",
    "from scipy import signal "
   ]
  },
  {
   "cell_type": "code",
   "execution_count": null,
   "metadata": {
    "collapsed": true
   },
   "outputs": [],
   "source": [
    "%matplotlib notebook"
   ]
  },
  {
   "cell_type": "code",
   "execution_count": null,
   "metadata": {
    "collapsed": false
   },
   "outputs": [],
   "source": [
    "%sql sqlite:///schema/test.db"
   ]
  },
  {
   "cell_type": "code",
   "execution_count": null,
   "metadata": {
    "collapsed": true
   },
   "outputs": [],
   "source": [
    "# Create Butterworth filter\n",
    "def apply_butter(freq_1, freq_2, fs, sig):\n",
    "    \"\"\" Apply second order Butterworth filter to sig\n",
    "    fs is sampling rate\n",
    "    \"\"\"\n",
    "    sos = sp.signal.butter(\n",
    "        2, (np.array([freq_1, freq_2]) / (fs / 2)), btype='bandpass', analog=False, output='sos'\n",
    "    )\n",
    "    sig = signal.sosfiltfilt(sos, sig)\n",
    "    return sig\n",
    "\n",
    "def normalize(sig):\n",
    "    \"\"\" Normalize range and zero-mean the signal\n",
    "    \"\"\"\n",
    "    sig = (sig - np.min(sig)) / (np.max(sig) - np.min(sig))\n",
    "    return sig - np.mean(sig)"
   ]
  },
  {
   "cell_type": "code",
   "execution_count": null,
   "metadata": {
    "collapsed": false
   },
   "outputs": [],
   "source": [
    "# Load test data (RCH90b)\n",
    "cur_experiment_id = 1\n",
    "result = %sql select data from mic where experiment_id = :cur_experiment_id\n",
    "\n",
    "mic_1 = np.array(result[0][0])\n",
    "mic_2 = np.array(result[2][0])\n",
    "\n",
    "# Median filter the data\n",
    "mic_1 = signal.medfilt(mic_1, 21)\n",
    "mic_2 = signal.medfilt(mic_2, 21)\n",
    "\n",
    "# Zero-mean\n",
    "mic_1 = mic_1 - np.mean(mic_1)\n",
    "mic_2 = mic_2 - np.mean(mic_2)\n",
    "\n",
    "# Butterworth (and normalize and zero-mean)\n",
    "f1 = 250\n",
    "f2 = 350\n",
    "fs = 9.6e6\n",
    "mic_1_butter = apply_butter(f1, f2, fs, mic_1)\n",
    "mic_1_butter = normalize(mic_1_butter)\n",
    "\n",
    "mic_2_butter = apply_butter(f1, f2, fs, mic_2)\n",
    "mic_2_butter = normalize(mic_2_butter)"
   ]
  },
  {
   "cell_type": "code",
   "execution_count": null,
   "metadata": {
    "collapsed": false
   },
   "outputs": [],
   "source": [
    "plt.figure(1)\n",
    "plt.plot(mic_1_butter, label='Mic 1 Butter', lw=1)\n",
    "plt.plot(mic_2_butter, label='Mic 2 Butter', lw=1)\n",
    "plt.legend()\n",
    "plt.show()"
   ]
  },
  {
   "cell_type": "code",
   "execution_count": null,
   "metadata": {
    "collapsed": false
   },
   "outputs": [],
   "source": [
    "from peakutils.plot import plot as pplot\n",
    "\n",
    "def get_n_peaks(sig, thres, min_dist, n):\n",
    "    \"\"\" Gets the first n peaks > thres ([0, 1]) and greater than min_dist apart\n",
    "    \"\"\"\n",
    "    idx = peakutils.peak.indexes(sig, thres=thres, min_dist=min_dist)\n",
    "    return idx[:n]\n",
    "\n",
    "idx_1 = get_n_peaks(mic_1_butter, 0.6, 1000, 5)\n",
    "idx_2 = get_n_peaks(mic_2_butter, 0.6, 1000, 5)\n",
    "\n",
    "print idx_1\n",
    "print idx_2\n",
    "\n",
    "sig1 = mic_1_butter\n",
    "sig2 = mic_2_butter\n",
    "\n",
    "# Window (Window around first 10 peaks)\n",
    "sig1[:(idx_1[0]-3*36000)] = 0\n",
    "sig1[idx_1[-1]+36000:] = 0\n",
    "\n",
    "sig2[:(idx_2[0]-3*36000)] = 0\n",
    "sig2[idx_2[-1]+36000:] = 0\n",
    "\n",
    "plt.figure(2)\n",
    "pplot(np.arange(len(sig1)), sig1, idx_1)\n",
    "pplot(np.arange(len(sig2)), sig2, idx_2)\n",
    "\n",
    "plt.show()"
   ]
  },
  {
   "cell_type": "code",
   "execution_count": null,
   "metadata": {
    "collapsed": true
   },
   "outputs": [],
   "source": [
    "# Window original signals\n",
    "mic_1_crop = np.array(mic_1)\n",
    "mic_2_crop = np.array(mic_2)\n",
    "\n",
    "# Window (Window around first 10 peaks)\n",
    "mic_1_crop[:(idx_1[0]-3*36000)] = 0\n",
    "mic_1_crop[idx_1[-1]+36000:] = 0\n",
    "\n",
    "mic_2_crop[:(idx_2[0]-3*36000)] = 0\n",
    "mic_2_crop[idx_2[-1]+36000:] = 0\n"
   ]
  },
  {
   "cell_type": "code",
   "execution_count": null,
   "metadata": {
    "collapsed": false
   },
   "outputs": [],
   "source": [
    "# Compute xcorr (using previous code)\n",
    "\n",
    "import locate\n",
    "\n",
    "[max_corr, delay] = locate.xcorr(mic_1_crop, mic_2_crop)\n",
    "print max_corr, delay"
   ]
  },
  {
   "cell_type": "code",
   "execution_count": null,
   "metadata": {
    "collapsed": false
   },
   "outputs": [],
   "source": [
    "# Plot out optimal xcorr\n",
    "# NB: np.roll is circular shift, since this is cropped this is fine here.\n",
    "\n",
    "plt.figure(3)\n",
    "pplot(np.arange(len(mic_1_crop)), mic_1_crop, idx_1)\n",
    "pplot(np.arange(len(mic_2_crop)), np.roll(mic_2_crop, -delay), idx_2)"
   ]
  },
  {
   "cell_type": "code",
   "execution_count": null,
   "metadata": {
    "collapsed": false
   },
   "outputs": [],
   "source": [
    "def next_pow_2(n):\n",
    "    \"\"\" Much faster to fft at next pow of 2\n",
    "    \"\"\"\n",
    "    return np.power(2, np.ceil(np.log2(n)))\n",
    "\n",
    "def gcc_xcorr(sig1, sig2, fmin, fmax, fs):\n",
    "    \"\"\" GCC-PHAT windowed on [fmin, fmax]\n",
    "    \"\"\"\n",
    "    Nfft = int(next_pow_2(len(sig1) + len(sig2) - 1))\n",
    "    print Nfft, np.log2(Nfft)\n",
    "    \n",
    "    SIG1 = np.fft.fftshift(np.fft.fft(sig1, n=Nfft))\n",
    "    SIG2 = np.fft.fftshift(np.fft.fft(sig2, n=Nfft))\n",
    "    freq = np.fft.fftshift(np.fft.fftfreq(n=Nfft, d=1./fs))\n",
    "    \n",
    "    CORR = np.multiply(SIG1, np.conj(SIG2))\n",
    "    CORR[np.where(np.abs(freq) < fmin)] = 0 # window in frequency domain\n",
    "    CORR[np.where(np.abs(freq) > fmax)] = 0\n",
    "        \n",
    "    CORR = CORR / (np.abs(SIG1) * np.abs(np.conj(SIG2)))\n",
    "    corr = np.fft.ifft(np.fft.ifftshift(CORR))\n",
    "    corr = np.fft.fftshift(corr)\n",
    "    \n",
    "    ind = np.argmax(corr)\n",
    "    return corr, ind\n",
    "\n",
    "mic_1_trunc = mic_1_crop[(idx_1[0]-3*36000):idx_1[-1]+36000]\n",
    "mic_2_trunc = mic_2_crop[(idx_2[0]-3*36000):idx_2[-1]+36000]\n",
    "\n",
    "\"\"\"\n",
    "MIC_1 = np.fft.fftshift(np.fft.fft(mic_1_trunc))\n",
    "freq = np.fft.fftshift(np.fft.fftfreq(len(MIC_1), d=1./fs))\n",
    "\n",
    "plt.figure(4)\n",
    "plt.plot(mic_1_trunc)\n",
    "plt.show()\n",
    "\n",
    "plt.figure(5)\n",
    "plt.plot(freq[np.where(np.abs(freq) < 500)], np.abs(MIC_1[np.where(np.abs(freq) < 500)]))\n",
    "plt.show()\n",
    "\"\"\"\n",
    "\n",
    "plt.figure(4)\n",
    "plt.plot(mic_1)\n",
    "plt.show()\n",
    "\n",
    "# Try gcc xcorr on raw signals \n",
    "corr, ind = gcc_xcorr(mic_1_crop, mic_2_crop, 50, 500, fs)\n",
    "print ind\n",
    "samples = np.arange(len(corr)) - len(corr)/2\n",
    "delay = -samples[ind]\n",
    "\n",
    "plt.figure(6)\n",
    "plt.plot(samples, corr)\n",
    "plt.show()\n",
    "\n",
    "print 'Delay: %d' % delay\n",
    "\n",
    "# NB: GCC-PHAT on truncated signals will require shifting... to account for shift in truncation\n",
    "# Right now just use cropped signal"
   ]
  },
  {
   "cell_type": "code",
   "execution_count": null,
   "metadata": {
    "collapsed": false
   },
   "outputs": [],
   "source": [
    "plt.figure(7)\n",
    "pplot(np.arange(len(mic_1_crop)), mic_1_crop, idx_1)\n",
    "pplot(np.arange(len(mic_2_crop)), np.roll(mic_2_crop, -delay), idx_2)"
   ]
  }
 ],
 "metadata": {
  "anaconda-cloud": {},
  "kernelspec": {
   "display_name": "Python 2",
   "language": "python",
   "name": "python2"
  }
 },
 "nbformat": 4,
 "nbformat_minor": 1
}
