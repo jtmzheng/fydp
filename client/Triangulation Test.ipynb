{
 "cells": [
  {
   "cell_type": "code",
   "execution_count": 411,
   "metadata": {
    "collapsed": false
   },
   "outputs": [
    {
     "name": "stdout",
     "output_type": "stream",
     "text": [
      "The sql extension is already loaded. To reload it, use:\n",
      "  %reload_ext sql\n"
     ]
    }
   ],
   "source": [
    "%load_ext sql"
   ]
  },
  {
   "cell_type": "code",
   "execution_count": 412,
   "metadata": {
    "collapsed": false
   },
   "outputs": [],
   "source": [
    "%matplotlib notebook"
   ]
  },
  {
   "cell_type": "code",
   "execution_count": 413,
   "metadata": {
    "collapsed": false
   },
   "outputs": [
    {
     "data": {
      "text/plain": [
       "u'Connected: None@schema/locate_tuesday.db'"
      ]
     },
     "execution_count": 413,
     "metadata": {},
     "output_type": "execute_result"
    }
   ],
   "source": [
    "%sql sqlite:///schema/locate_tuesday.db"
   ]
  },
  {
   "cell_type": "code",
   "execution_count": 414,
   "metadata": {
    "collapsed": false
   },
   "outputs": [
    {
     "name": "stdout",
     "output_type": "stream",
     "text": [
      "Done.\n"
     ]
    },
    {
     "data": {
      "text/html": [
       "<table>\n",
       "    <tr>\n",
       "        <th>id</th>\n",
       "        <th>datetime</th>\n",
       "        <th>x</th>\n",
       "        <th>y</th>\n",
       "        <th>x_hat</th>\n",
       "        <th>y_hat</th>\n",
       "        <th>comment</th>\n",
       "    </tr>\n",
       "    <tr>\n",
       "        <td>1</td>\n",
       "        <td>1489511414</td>\n",
       "        <td>0.0</td>\n",
       "        <td>2.0</td>\n",
       "        <td>-0.0371689346478</td>\n",
       "        <td>1.45508694295</td>\n",
       "        <td></td>\n",
       "    </tr>\n",
       "    <tr>\n",
       "        <td>2</td>\n",
       "        <td>1489511437</td>\n",
       "        <td>0.0</td>\n",
       "        <td>2.0</td>\n",
       "        <td>-0.0648942819059</td>\n",
       "        <td>1.47057537897</td>\n",
       "        <td></td>\n",
       "    </tr>\n",
       "    <tr>\n",
       "        <td>3</td>\n",
       "        <td>1489511460</td>\n",
       "        <td>0.0</td>\n",
       "        <td>2.0</td>\n",
       "        <td>0.000978633106023</td>\n",
       "        <td>1.47566857787</td>\n",
       "        <td></td>\n",
       "    </tr>\n",
       "    <tr>\n",
       "        <td>4</td>\n",
       "        <td>1489511564</td>\n",
       "        <td>-3.0</td>\n",
       "        <td>0.0</td>\n",
       "        <td>0.751690140398</td>\n",
       "        <td>-0.355342680301</td>\n",
       "        <td></td>\n",
       "    </tr>\n",
       "    <tr>\n",
       "        <td>5</td>\n",
       "        <td>1489511588</td>\n",
       "        <td>-3.0</td>\n",
       "        <td>0.0</td>\n",
       "        <td>1.06067103748</td>\n",
       "        <td>-0.45014595152</td>\n",
       "        <td></td>\n",
       "    </tr>\n",
       "    <tr>\n",
       "        <td>6</td>\n",
       "        <td>1489511610</td>\n",
       "        <td>-3.0</td>\n",
       "        <td>0.0</td>\n",
       "        <td>0.998095565523</td>\n",
       "        <td>-0.380003413791</td>\n",
       "        <td></td>\n",
       "    </tr>\n",
       "    <tr>\n",
       "        <td>7</td>\n",
       "        <td>1489512539</td>\n",
       "        <td>-1.0</td>\n",
       "        <td>2.0</td>\n",
       "        <td>17.2769732824</td>\n",
       "        <td>-51.6906023636</td>\n",
       "        <td></td>\n",
       "    </tr>\n",
       "    <tr>\n",
       "        <td>8</td>\n",
       "        <td>1489512564</td>\n",
       "        <td>-1.0</td>\n",
       "        <td>2.0</td>\n",
       "        <td>-5.07182571152</td>\n",
       "        <td>5.89501343973</td>\n",
       "        <td></td>\n",
       "    </tr>\n",
       "    <tr>\n",
       "        <td>9</td>\n",
       "        <td>1489512587</td>\n",
       "        <td>-1.0</td>\n",
       "        <td>2.0</td>\n",
       "        <td>-1.20469889381</td>\n",
       "        <td>3.32741564489</td>\n",
       "        <td></td>\n",
       "    </tr>\n",
       "    <tr>\n",
       "        <td>10</td>\n",
       "        <td>1489512640</td>\n",
       "        <td>-1.0</td>\n",
       "        <td>2.0</td>\n",
       "        <td>2.91073220162</td>\n",
       "        <td>-3.3491645856</td>\n",
       "        <td></td>\n",
       "    </tr>\n",
       "    <tr>\n",
       "        <td>11</td>\n",
       "        <td>1489512731</td>\n",
       "        <td>-1.0</td>\n",
       "        <td>2.0</td>\n",
       "        <td>-1.39766463823</td>\n",
       "        <td>1.78695679986</td>\n",
       "        <td></td>\n",
       "    </tr>\n",
       "    <tr>\n",
       "        <td>12</td>\n",
       "        <td>1489512755</td>\n",
       "        <td>-1.0</td>\n",
       "        <td>2.0</td>\n",
       "        <td>-1.04014247709</td>\n",
       "        <td>1.19664941376</td>\n",
       "        <td></td>\n",
       "    </tr>\n",
       "    <tr>\n",
       "        <td>13</td>\n",
       "        <td>1489512778</td>\n",
       "        <td>-1.0</td>\n",
       "        <td>2.0</td>\n",
       "        <td>-0.944248276242</td>\n",
       "        <td>2.87770099569</td>\n",
       "        <td></td>\n",
       "    </tr>\n",
       "    <tr>\n",
       "        <td>14</td>\n",
       "        <td>1489512932</td>\n",
       "        <td>2.0</td>\n",
       "        <td>2.0</td>\n",
       "        <td>2.00610993182</td>\n",
       "        <td>1.10309639519</td>\n",
       "        <td></td>\n",
       "    </tr>\n",
       "    <tr>\n",
       "        <td>15</td>\n",
       "        <td>1489512955</td>\n",
       "        <td>2.0</td>\n",
       "        <td>2.0</td>\n",
       "        <td>1.98812676645</td>\n",
       "        <td>1.25921036661</td>\n",
       "        <td></td>\n",
       "    </tr>\n",
       "    <tr>\n",
       "        <td>16</td>\n",
       "        <td>1489512980</td>\n",
       "        <td>2.0</td>\n",
       "        <td>2.0</td>\n",
       "        <td>0.0</td>\n",
       "        <td>0.0</td>\n",
       "        <td></td>\n",
       "    </tr>\n",
       "    <tr>\n",
       "        <td>17</td>\n",
       "        <td>1489513059</td>\n",
       "        <td>4.0</td>\n",
       "        <td>2.0</td>\n",
       "        <td>1.3885277252</td>\n",
       "        <td>-0.447540643895</td>\n",
       "        <td></td>\n",
       "    </tr>\n",
       "    <tr>\n",
       "        <td>18</td>\n",
       "        <td>1489513082</td>\n",
       "        <td>4.0</td>\n",
       "        <td>2.0</td>\n",
       "        <td>3.96815341879</td>\n",
       "        <td>1.38115642783</td>\n",
       "        <td></td>\n",
       "    </tr>\n",
       "    <tr>\n",
       "        <td>19</td>\n",
       "        <td>1489513106</td>\n",
       "        <td>4.0</td>\n",
       "        <td>2.0</td>\n",
       "        <td>3.59000418561</td>\n",
       "        <td>1.18381042724</td>\n",
       "        <td></td>\n",
       "    </tr>\n",
       "</table>"
      ],
      "text/plain": [
       "[(1, 1489511414, 0.0, 2.0, -0.037168934647815025, 1.45508694295238, u''),\n",
       " (2, 1489511437, 0.0, 2.0, -0.06489428190591899, 1.4705753789727845, u''),\n",
       " (3, 1489511460, 0.0, 2.0, 0.0009786331060225241, 1.4756685778707253, u''),\n",
       " (4, 1489511564, -3.0, 0.0, 0.7516901403981442, -0.35534268030083543, u''),\n",
       " (5, 1489511588, -3.0, 0.0, 1.0606710374798365, -0.4501459515195146, u''),\n",
       " (6, 1489511610, -3.0, 0.0, 0.9980955655226286, -0.38000341379119584, u''),\n",
       " (7, 1489512539, -1.0, 2.0, 17.276973282399663, -51.69060236359874, u''),\n",
       " (8, 1489512564, -1.0, 2.0, -5.071825711522989, 5.895013439726793, u''),\n",
       " (9, 1489512587, -1.0, 2.0, -1.2046988938075947, 3.3274156448881897, u''),\n",
       " (10, 1489512640, -1.0, 2.0, 2.9107322016170074, -3.349164585598945, u''),\n",
       " (11, 1489512731, -1.0, 2.0, -1.3976646382306892, 1.7869567998608038, u''),\n",
       " (12, 1489512755, -1.0, 2.0, -1.0401424770929388, 1.1966494137571486, u''),\n",
       " (13, 1489512778, -1.0, 2.0, -0.9442482762418091, 2.8777009956917228, u''),\n",
       " (14, 1489512932, 2.0, 2.0, 2.006109931821342, 1.1030963951899784, u''),\n",
       " (15, 1489512955, 2.0, 2.0, 1.9881267664479774, 1.2592103666059062, u''),\n",
       " (16, 1489512980, 2.0, 2.0, 0.0, 0.0, u''),\n",
       " (17, 1489513059, 4.0, 2.0, 1.3885277251988635, -0.44754064389533066, u''),\n",
       " (18, 1489513082, 4.0, 2.0, 3.9681534187911875, 1.381156427833592, u''),\n",
       " (19, 1489513106, 4.0, 2.0, 3.5900041856082026, 1.1838104272430179, u'')]"
      ]
     },
     "execution_count": 414,
     "metadata": {},
     "output_type": "execute_result"
    }
   ],
   "source": [
    "import locate\n",
    "import farwave\n",
    "import numpy as np\n",
    "import scipy as sp\n",
    "\n",
    "%sql select * from experiment;"
   ]
  },
  {
   "cell_type": "code",
   "execution_count": 415,
   "metadata": {
    "collapsed": true
   },
   "outputs": [],
   "source": [
    "l = 0.3 # Length from mic to centre of array\n",
    "MIC_IND_LR = {\n",
    "    0: (1, 2),\n",
    "    1: (2, 0),\n",
    "    2: (0, 1)\n",
    "}\n",
    "\n",
    "ANGLE_OFFSET = {\n",
    "    0: 0,\n",
    "    1: 2.0944, # 120 deg in rad\n",
    "    2: 4.18879, # 240 deg in rad\n",
    "}\n",
    "\n",
    "def calc_delays(sigs, offsets):\n",
    "    \"\"\" Calculate matrix of delays given N sigs\n",
    "    \"\"\"\n",
    "    results = []\n",
    "    for j in range(len(sigs)):\n",
    "        for k in range(len(sigs)):\n",
    "            if j != k:\n",
    "                results.append((\n",
    "                        (j, k), locate.xcorr_peaks(sigs[j], sigs[k], offsets[j], offsets[k], l)\n",
    "                    ))\n",
    "            \n",
    "\n",
    "    # 3x3 array delays[i][j] is the delay of signal j relative to signal i\n",
    "    delays = np.zeros((len(sigs), len(sigs)), dtype=np.float)\n",
    "    for res in results:\n",
    "        key, val = res[0], res[1]\n",
    "        delays[key[0]][key[1]] = val[1] # xcorr (val, delay) tuple\n",
    "        delays[key[1]][key[0]] = -delays[key[0]][key[1]]\n",
    "        \n",
    "    return delays\n",
    "\n",
    "def calc_angles(n, delays, l):\n",
    "    \"\"\" Given delays matrix, calculate angle using far_wave\n",
    "    \"\"\"\n",
    "    # Estimate \"location\" of sound source, create array record\n",
    "    for j in range(n):\n",
    "        if delays[j][(j+1)%3] >= 0 and delays[j][(j+2)%3] >= 0:\n",
    "            lr = MIC_IND_LR[j]\n",
    "            near_pair = (min(j, lr[0]), max(j, lr[0])) if delays[j][lr[0]] < delays[j][lr[1]] else (min(j, lr[1]), max(j, lr[1]))\n",
    "            print 'Near Pair: %r' %  str(near_pair)\n",
    "            f_theta = np.deg2rad(farwave.calc_angle(delays, l, near_pair=near_pair))\n",
    "            print 'Using microphone %d as closest mic - (%d left, %d right)' % (j, lr[0], lr[1])\n",
    "            break\n",
    "    \n",
    "    return f_theta, np.rad2deg(f_theta)\n"
   ]
  },
  {
   "cell_type": "code",
   "execution_count": 416,
   "metadata": {
    "collapsed": false
   },
   "outputs": [
    {
     "name": "stdout",
     "output_type": "stream",
     "text": [
      "Done.\n",
      "Done.\n"
     ]
    }
   ],
   "source": [
    "cur_experiment_id = 19\n",
    "\n",
    "result = %sql select data from mic where experiment_id = :cur_experiment_id and array_id = 0\n",
    "    \n",
    "mic_0a = np.array(result[0][0])\n",
    "mic_1a = np.array(result[1][0])\n",
    "mic_2a = np.array(result[2][0])\n",
    "\n",
    "sigs_a = [mic_0a, mic_1a, mic_2a]\n",
    "\n",
    "result = %sql select data from mic where experiment_id = :cur_experiment_id and array_id = 1\n",
    "    \n",
    "mic_0b = np.array(result[0][0])\n",
    "mic_1b = np.array(result[1][0])\n",
    "mic_2b = np.array(result[2][0])\n",
    "\n",
    "sigs_b = [mic_0b, mic_1b, mic_2b]"
   ]
  },
  {
   "cell_type": "code",
   "execution_count": 417,
   "metadata": {
    "collapsed": false
   },
   "outputs": [],
   "source": [
    "_, a_crop, a_off, _, _ = locate.crop_sigs_npeaks(sigs_a)\n",
    "_, b_crop, b_off, _, _ = locate.crop_sigs_npeaks(sigs_b)"
   ]
  },
  {
   "cell_type": "code",
   "execution_count": 418,
   "metadata": {
    "collapsed": false
   },
   "outputs": [
    {
     "name": "stdout",
     "output_type": "stream",
     "text": [
      "Near Pair: '(0, 2)'\n",
      "Angles: [257.26079924469252, 286.48504051135797, 328.73565746599689]\n",
      "Errors: [1.0471598549619132, 1.0284796966276135, 1.1698889550207043]\n",
      "\n",
      "DEL_ERR: 0.018680\n",
      "Error: 0.018680, 1.028480, 'True'\n",
      "Setting final_ang to 286.485041\n",
      "DEL_ERR: 0.141409\n",
      "Error: 0.141409, 1.028480, 'True'\n",
      "Setting final_ang to 286.485041\n",
      "Angle (CCW): 286.485041\n",
      "Using microphone 2 as closest mic - (0 left, 1 right)\n",
      "Near Pair: '(0, 2)'\n",
      "Angles: [282.42689764714243, 305.97772619815305, 325.21440161844146]\n",
      "Errors: [1.3547589246257403, 1.0054672727565632, 1.2175928007223327]\n",
      "\n",
      "DEL_ERR: 0.349292\n",
      "Error: 0.349292, 1.005467, 'True'\n",
      "DEL_ERR: 0.137166\n",
      "Error: 0.137166, 1.005467, 'False'\n",
      "DEL_ERR: 0.212126\n",
      "Error: 0.212126, 1.005467, 'True'\n",
      "Angle (CCW): 305.573315\n",
      "Using microphone 0 as closest mic - (1 left, 2 right)\n"
     ]
    }
   ],
   "source": [
    "del_a = calc_delays(a_crop, a_off)\n",
    "theta_a, theta_a_deg = calc_angles(len(sigs_a), del_a, l)\n",
    "\n",
    "del_b = calc_delays(b_crop, b_off)\n",
    "theta_b, theta_b_deg = calc_angles(len(sigs_b), del_b, l)"
   ]
  },
  {
   "cell_type": "code",
   "execution_count": 419,
   "metadata": {
    "collapsed": false
   },
   "outputs": [
    {
     "name": "stdout",
     "output_type": "stream",
     "text": [
      "Done.\n",
      "+----------+---+---+\n",
      "| array_id | x | y |\n",
      "+----------+---+---+\n",
      "+----------+---+---+\n"
     ]
    }
   ],
   "source": [
    "results = %sql select array_id, x, y from array where experiment_id = :cur_experiment_id\n",
    "    \n",
    "print results"
   ]
  },
  {
   "cell_type": "code",
   "execution_count": 420,
   "metadata": {
    "collapsed": false
   },
   "outputs": [
    {
     "name": "stdout",
     "output_type": "stream",
     "text": [
      "5.00010721463 5.33326045799\n",
      "[0 0] [ 0.95889386  0.28376499]\n",
      "[2 0] [ 0.81337179  0.58174422]\n"
     ]
    }
   ],
   "source": [
    "R = np.array([[0, -1], [1, 0]])\n",
    "\n",
    "p_a = np.array([0, 0]) #np.array([results[0]['x'], results[0]['y']])\n",
    "p_b = np.array([2, 0]) #np.array([results[1]['x'], results[1]['y']])\n",
    "\n",
    "v_a = np.dot(R, np.array([np.cos(theta_a), np.sin(theta_a)]))\n",
    "v_b = np.dot(R, np.array([np.cos(theta_b), np.sin(theta_b)]))\n",
    "\n",
    "calc_pos = locate.calc_poi(\n",
    "    p_a,\n",
    "    p_b,\n",
    "    v_a,\n",
    "    v_b\n",
    ")\n",
    "\n",
    "print theta_a, theta_b\n",
    "print p_a, v_a\n",
    "print p_b, v_b"
   ]
  },
  {
   "cell_type": "code",
   "execution_count": 421,
   "metadata": {
    "collapsed": false
   },
   "outputs": [
    {
     "name": "stdout",
     "output_type": "stream",
     "text": [
      "Done.\n"
     ]
    }
   ],
   "source": [
    "results = %sql select x, y from experiment where id = :cur_experiment_id"
   ]
  },
  {
   "cell_type": "code",
   "execution_count": 422,
   "metadata": {
    "collapsed": false
   },
   "outputs": [],
   "source": [
    "act_pos = np.array([results[0]['x'], results[0]['y']])"
   ]
  },
  {
   "cell_type": "code",
   "execution_count": 423,
   "metadata": {
    "collapsed": false
   },
   "outputs": [
    {
     "name": "stdout",
     "output_type": "stream",
     "text": [
      "Computed: [ 3.41155437  1.00957963]\n",
      "Actual: [ 4.  2.]\n",
      "Error: 1.152042\n",
      "[[    0.  4308. -3393.]\n",
      " [-4308.     0. -7535.]\n",
      " [ 3393.  7535.     0.]]\n",
      "[[    0.  9795.  1512.]\n",
      " [-9795.     0. -8283.]\n",
      " [-1512.  8283.     0.]]\n"
     ]
    }
   ],
   "source": [
    "print 'Computed: %s' % str(calc_pos)\n",
    "print 'Actual: %s' % str(act_pos)\n",
    "print 'Error: %f' % (np.sqrt(np.sum((calc_pos - act_pos)**2)))\n",
    "\n",
    "\n",
    "print del_a\n",
    "print del_b"
   ]
  }
 ],
 "metadata": {
  "anaconda-cloud": {},
  "kernelspec": {
   "display_name": "Python [default]",
   "language": "python",
   "name": "python2"
  },
  "language_info": {
   "codemirror_mode": {
    "name": "ipython",
    "version": 2
   },
   "file_extension": ".py",
   "mimetype": "text/x-python",
   "name": "python",
   "nbconvert_exporter": "python",
   "pygments_lexer": "ipython2",
   "version": "2.7.12"
  }
 },
 "nbformat": 4,
 "nbformat_minor": 1
}
